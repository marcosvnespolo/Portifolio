{
  "nbformat": 4,
  "nbformat_minor": 0,
  "metadata": {
    "colab": {
      "name": "Análise Exploratória (Netflix).ipynb",
      "provenance": [],
      "collapsed_sections": [],
      "mount_file_id": "1op1o47WpRye_2JyMtPvysl30s1RI8yJI",
      "authorship_tag": "ABX9TyOTNNfyUGWHzRpxQpzwbaIY",
      "include_colab_link": true
    },
    "kernelspec": {
      "name": "python3",
      "display_name": "Python 3"
    },
    "language_info": {
      "name": "python"
    }
  },
  "cells": [
    {
      "cell_type": "markdown",
      "metadata": {
        "id": "view-in-github",
        "colab_type": "text"
      },
      "source": [
        "<a href=\"https://colab.research.google.com/github/marcosvnespolo/Portifolio/blob/main/An%C3%A1lise_Explorat%C3%B3ria_(Netflix).ipynb\" target=\"_parent\"><img src=\"https://colab.research.google.com/assets/colab-badge.svg\" alt=\"Open In Colab\"/></a>"
      ]
    },
    {
      "cell_type": "markdown",
      "source": [
        "## Overview do Projeto\n",
        "\n",
        "Através da base de dados a seguir, importada do site kaggle, realizarei a análise exploratória dos dados com o objetivo de identificar padrões e retirar insights que seriam relevantes para uma organização como a Netflix.\n"
      ],
      "metadata": {
        "id": "zRFLcoxj3hAR"
      }
    },
    {
      "cell_type": "code",
      "execution_count": null,
      "metadata": {
        "id": "ijHtVol4j8vT"
      },
      "outputs": [],
      "source": [
        "import pandas as pd\n",
        "import datetime as dt"
      ]
    },
    {
      "cell_type": "code",
      "source": [
        ""
      ],
      "metadata": {
        "id": "6Pf5oazA33kp"
      },
      "execution_count": null,
      "outputs": []
    },
    {
      "cell_type": "markdown",
      "source": [
        "Vizualizando a Base de Dados\n"
      ],
      "metadata": {
        "id": "o2XUqkegmTZ2"
      }
    },
    {
      "cell_type": "code",
      "source": [
        "df = pd.read_csv('/content/drive/MyDrive/Datasets/Análise Exploratória/netflix daily top 10.csv')\n",
        "display(df)"
      ],
      "metadata": {
        "colab": {
          "base_uri": "https://localhost:8080/",
          "height": 424
        },
        "id": "O-0EbBi0lkev",
        "outputId": "23863809-597a-4631-85c8-cb0cf8aca6a9"
      },
      "execution_count": null,
      "outputs": [
        {
          "output_type": "display_data",
          "data": {
            "text/plain": [
              "           As of  Rank Year to Date Rank Last Week Rank  \\\n",
              "0     2020-04-01     1                 1              1   \n",
              "1     2020-04-01     2                 2              -   \n",
              "2     2020-04-01     3                 3              2   \n",
              "3     2020-04-01     4                 4              -   \n",
              "4     2020-04-01     5                 5              4   \n",
              "...          ...   ...               ...            ...   \n",
              "7095  2022-03-11     6                 5              1   \n",
              "7096  2022-03-11     7                 7              2   \n",
              "7097  2022-03-11     8                 8              -   \n",
              "7098  2022-03-11     9                 9              7   \n",
              "7099  2022-03-11    10                10              -   \n",
              "\n",
              "                             Title     Type Netflix Exclusive  \\\n",
              "0     Tiger King: Murder, Mayhem …  TV Show               Yes   \n",
              "1                            Ozark  TV Show               Yes   \n",
              "2                     All American  TV Show               NaN   \n",
              "3                     Blood Father    Movie               NaN   \n",
              "4                     The Platform    Movie               Yes   \n",
              "...                            ...      ...               ...   \n",
              "7095           Worst Roommate Ever  TV Show               Yes   \n",
              "7096             Vikings: Valhalla  TV Show               Yes   \n",
              "7097                       Shooter    Movie               NaN   \n",
              "7098                       Shrek 2    Movie               NaN   \n",
              "7099                         Shrek    Movie               NaN   \n",
              "\n",
              "     Netflix Release Date  Days In Top 10  Viewership Score  \n",
              "0            Mar 20, 2020               9                90  \n",
              "1            Jul 21, 2017               5                45  \n",
              "2            Mar 28, 2019               9                76  \n",
              "3            Mar 26, 2020               5                30  \n",
              "4            Mar 20, 2020               9                55  \n",
              "...                   ...             ...               ...  \n",
              "7095          Mar 1, 2022              10                81  \n",
              "7096         Feb 25, 2022              14               100  \n",
              "7097          Aug 1, 2014               3                 7  \n",
              "7098          Mar 1, 2022              10                33  \n",
              "7099          May 1, 2018               7                12  \n",
              "\n",
              "[7100 rows x 10 columns]"
            ],
            "text/html": [
              "\n",
              "  <div id=\"df-445b160d-d19a-4c99-b1c7-04bf6d28ea9a\">\n",
              "    <div class=\"colab-df-container\">\n",
              "      <div>\n",
              "<style scoped>\n",
              "    .dataframe tbody tr th:only-of-type {\n",
              "        vertical-align: middle;\n",
              "    }\n",
              "\n",
              "    .dataframe tbody tr th {\n",
              "        vertical-align: top;\n",
              "    }\n",
              "\n",
              "    .dataframe thead th {\n",
              "        text-align: right;\n",
              "    }\n",
              "</style>\n",
              "<table border=\"1\" class=\"dataframe\">\n",
              "  <thead>\n",
              "    <tr style=\"text-align: right;\">\n",
              "      <th></th>\n",
              "      <th>As of</th>\n",
              "      <th>Rank</th>\n",
              "      <th>Year to Date Rank</th>\n",
              "      <th>Last Week Rank</th>\n",
              "      <th>Title</th>\n",
              "      <th>Type</th>\n",
              "      <th>Netflix Exclusive</th>\n",
              "      <th>Netflix Release Date</th>\n",
              "      <th>Days In Top 10</th>\n",
              "      <th>Viewership Score</th>\n",
              "    </tr>\n",
              "  </thead>\n",
              "  <tbody>\n",
              "    <tr>\n",
              "      <th>0</th>\n",
              "      <td>2020-04-01</td>\n",
              "      <td>1</td>\n",
              "      <td>1</td>\n",
              "      <td>1</td>\n",
              "      <td>Tiger King: Murder, Mayhem …</td>\n",
              "      <td>TV Show</td>\n",
              "      <td>Yes</td>\n",
              "      <td>Mar 20, 2020</td>\n",
              "      <td>9</td>\n",
              "      <td>90</td>\n",
              "    </tr>\n",
              "    <tr>\n",
              "      <th>1</th>\n",
              "      <td>2020-04-01</td>\n",
              "      <td>2</td>\n",
              "      <td>2</td>\n",
              "      <td>-</td>\n",
              "      <td>Ozark</td>\n",
              "      <td>TV Show</td>\n",
              "      <td>Yes</td>\n",
              "      <td>Jul 21, 2017</td>\n",
              "      <td>5</td>\n",
              "      <td>45</td>\n",
              "    </tr>\n",
              "    <tr>\n",
              "      <th>2</th>\n",
              "      <td>2020-04-01</td>\n",
              "      <td>3</td>\n",
              "      <td>3</td>\n",
              "      <td>2</td>\n",
              "      <td>All American</td>\n",
              "      <td>TV Show</td>\n",
              "      <td>NaN</td>\n",
              "      <td>Mar 28, 2019</td>\n",
              "      <td>9</td>\n",
              "      <td>76</td>\n",
              "    </tr>\n",
              "    <tr>\n",
              "      <th>3</th>\n",
              "      <td>2020-04-01</td>\n",
              "      <td>4</td>\n",
              "      <td>4</td>\n",
              "      <td>-</td>\n",
              "      <td>Blood Father</td>\n",
              "      <td>Movie</td>\n",
              "      <td>NaN</td>\n",
              "      <td>Mar 26, 2020</td>\n",
              "      <td>5</td>\n",
              "      <td>30</td>\n",
              "    </tr>\n",
              "    <tr>\n",
              "      <th>4</th>\n",
              "      <td>2020-04-01</td>\n",
              "      <td>5</td>\n",
              "      <td>5</td>\n",
              "      <td>4</td>\n",
              "      <td>The Platform</td>\n",
              "      <td>Movie</td>\n",
              "      <td>Yes</td>\n",
              "      <td>Mar 20, 2020</td>\n",
              "      <td>9</td>\n",
              "      <td>55</td>\n",
              "    </tr>\n",
              "    <tr>\n",
              "      <th>...</th>\n",
              "      <td>...</td>\n",
              "      <td>...</td>\n",
              "      <td>...</td>\n",
              "      <td>...</td>\n",
              "      <td>...</td>\n",
              "      <td>...</td>\n",
              "      <td>...</td>\n",
              "      <td>...</td>\n",
              "      <td>...</td>\n",
              "      <td>...</td>\n",
              "    </tr>\n",
              "    <tr>\n",
              "      <th>7095</th>\n",
              "      <td>2022-03-11</td>\n",
              "      <td>6</td>\n",
              "      <td>5</td>\n",
              "      <td>1</td>\n",
              "      <td>Worst Roommate Ever</td>\n",
              "      <td>TV Show</td>\n",
              "      <td>Yes</td>\n",
              "      <td>Mar 1, 2022</td>\n",
              "      <td>10</td>\n",
              "      <td>81</td>\n",
              "    </tr>\n",
              "    <tr>\n",
              "      <th>7096</th>\n",
              "      <td>2022-03-11</td>\n",
              "      <td>7</td>\n",
              "      <td>7</td>\n",
              "      <td>2</td>\n",
              "      <td>Vikings: Valhalla</td>\n",
              "      <td>TV Show</td>\n",
              "      <td>Yes</td>\n",
              "      <td>Feb 25, 2022</td>\n",
              "      <td>14</td>\n",
              "      <td>100</td>\n",
              "    </tr>\n",
              "    <tr>\n",
              "      <th>7097</th>\n",
              "      <td>2022-03-11</td>\n",
              "      <td>8</td>\n",
              "      <td>8</td>\n",
              "      <td>-</td>\n",
              "      <td>Shooter</td>\n",
              "      <td>Movie</td>\n",
              "      <td>NaN</td>\n",
              "      <td>Aug 1, 2014</td>\n",
              "      <td>3</td>\n",
              "      <td>7</td>\n",
              "    </tr>\n",
              "    <tr>\n",
              "      <th>7098</th>\n",
              "      <td>2022-03-11</td>\n",
              "      <td>9</td>\n",
              "      <td>9</td>\n",
              "      <td>7</td>\n",
              "      <td>Shrek 2</td>\n",
              "      <td>Movie</td>\n",
              "      <td>NaN</td>\n",
              "      <td>Mar 1, 2022</td>\n",
              "      <td>10</td>\n",
              "      <td>33</td>\n",
              "    </tr>\n",
              "    <tr>\n",
              "      <th>7099</th>\n",
              "      <td>2022-03-11</td>\n",
              "      <td>10</td>\n",
              "      <td>10</td>\n",
              "      <td>-</td>\n",
              "      <td>Shrek</td>\n",
              "      <td>Movie</td>\n",
              "      <td>NaN</td>\n",
              "      <td>May 1, 2018</td>\n",
              "      <td>7</td>\n",
              "      <td>12</td>\n",
              "    </tr>\n",
              "  </tbody>\n",
              "</table>\n",
              "<p>7100 rows × 10 columns</p>\n",
              "</div>\n",
              "      <button class=\"colab-df-convert\" onclick=\"convertToInteractive('df-445b160d-d19a-4c99-b1c7-04bf6d28ea9a')\"\n",
              "              title=\"Convert this dataframe to an interactive table.\"\n",
              "              style=\"display:none;\">\n",
              "        \n",
              "  <svg xmlns=\"http://www.w3.org/2000/svg\" height=\"24px\"viewBox=\"0 0 24 24\"\n",
              "       width=\"24px\">\n",
              "    <path d=\"M0 0h24v24H0V0z\" fill=\"none\"/>\n",
              "    <path d=\"M18.56 5.44l.94 2.06.94-2.06 2.06-.94-2.06-.94-.94-2.06-.94 2.06-2.06.94zm-11 1L8.5 8.5l.94-2.06 2.06-.94-2.06-.94L8.5 2.5l-.94 2.06-2.06.94zm10 10l.94 2.06.94-2.06 2.06-.94-2.06-.94-.94-2.06-.94 2.06-2.06.94z\"/><path d=\"M17.41 7.96l-1.37-1.37c-.4-.4-.92-.59-1.43-.59-.52 0-1.04.2-1.43.59L10.3 9.45l-7.72 7.72c-.78.78-.78 2.05 0 2.83L4 21.41c.39.39.9.59 1.41.59.51 0 1.02-.2 1.41-.59l7.78-7.78 2.81-2.81c.8-.78.8-2.07 0-2.86zM5.41 20L4 18.59l7.72-7.72 1.47 1.35L5.41 20z\"/>\n",
              "  </svg>\n",
              "      </button>\n",
              "      \n",
              "  <style>\n",
              "    .colab-df-container {\n",
              "      display:flex;\n",
              "      flex-wrap:wrap;\n",
              "      gap: 12px;\n",
              "    }\n",
              "\n",
              "    .colab-df-convert {\n",
              "      background-color: #E8F0FE;\n",
              "      border: none;\n",
              "      border-radius: 50%;\n",
              "      cursor: pointer;\n",
              "      display: none;\n",
              "      fill: #1967D2;\n",
              "      height: 32px;\n",
              "      padding: 0 0 0 0;\n",
              "      width: 32px;\n",
              "    }\n",
              "\n",
              "    .colab-df-convert:hover {\n",
              "      background-color: #E2EBFA;\n",
              "      box-shadow: 0px 1px 2px rgba(60, 64, 67, 0.3), 0px 1px 3px 1px rgba(60, 64, 67, 0.15);\n",
              "      fill: #174EA6;\n",
              "    }\n",
              "\n",
              "    [theme=dark] .colab-df-convert {\n",
              "      background-color: #3B4455;\n",
              "      fill: #D2E3FC;\n",
              "    }\n",
              "\n",
              "    [theme=dark] .colab-df-convert:hover {\n",
              "      background-color: #434B5C;\n",
              "      box-shadow: 0px 1px 3px 1px rgba(0, 0, 0, 0.15);\n",
              "      filter: drop-shadow(0px 1px 2px rgba(0, 0, 0, 0.3));\n",
              "      fill: #FFFFFF;\n",
              "    }\n",
              "  </style>\n",
              "\n",
              "      <script>\n",
              "        const buttonEl =\n",
              "          document.querySelector('#df-445b160d-d19a-4c99-b1c7-04bf6d28ea9a button.colab-df-convert');\n",
              "        buttonEl.style.display =\n",
              "          google.colab.kernel.accessAllowed ? 'block' : 'none';\n",
              "\n",
              "        async function convertToInteractive(key) {\n",
              "          const element = document.querySelector('#df-445b160d-d19a-4c99-b1c7-04bf6d28ea9a');\n",
              "          const dataTable =\n",
              "            await google.colab.kernel.invokeFunction('convertToInteractive',\n",
              "                                                     [key], {});\n",
              "          if (!dataTable) return;\n",
              "\n",
              "          const docLinkHtml = 'Like what you see? Visit the ' +\n",
              "            '<a target=\"_blank\" href=https://colab.research.google.com/notebooks/data_table.ipynb>data table notebook</a>'\n",
              "            + ' to learn more about interactive tables.';\n",
              "          element.innerHTML = '';\n",
              "          dataTable['output_type'] = 'display_data';\n",
              "          await google.colab.output.renderOutput(dataTable, element);\n",
              "          const docLink = document.createElement('div');\n",
              "          docLink.innerHTML = docLinkHtml;\n",
              "          element.appendChild(docLink);\n",
              "        }\n",
              "      </script>\n",
              "    </div>\n",
              "  </div>\n",
              "  "
            ]
          },
          "metadata": {}
        }
      ]
    },
    {
      "cell_type": "code",
      "source": [
        "base.shape"
      ],
      "metadata": {
        "colab": {
          "base_uri": "https://localhost:8080/"
        },
        "id": "FyU8o64rl5ro",
        "outputId": "4f649bdd-1b64-41a1-f599-f5dc141ec254"
      },
      "execution_count": null,
      "outputs": [
        {
          "output_type": "execute_result",
          "data": {
            "text/plain": [
              "(7100, 10)"
            ]
          },
          "metadata": {},
          "execution_count": 7
        }
      ]
    },
    {
      "cell_type": "markdown",
      "source": [
        " Averiguando o período das análises"
      ],
      "metadata": {
        "id": "pKe1oFpwmaBo"
      }
    },
    {
      "cell_type": "code",
      "source": [
        "data_inicial = pd.to_datetime(df['As of']).dt.date.min()\n",
        "print(data_inicial)"
      ],
      "metadata": {
        "colab": {
          "base_uri": "https://localhost:8080/"
        },
        "id": "Dh-RtCuWmkaB",
        "outputId": "8e8503b4-5d3b-42d1-96b3-83b20315f98d"
      },
      "execution_count": null,
      "outputs": [
        {
          "output_type": "stream",
          "name": "stdout",
          "text": [
            "2020-04-01\n"
          ]
        }
      ]
    },
    {
      "cell_type": "code",
      "source": [
        "data_final = pd.to_datetime(df['As of']).dt.date.max()\n",
        "print(data_final)"
      ],
      "metadata": {
        "colab": {
          "base_uri": "https://localhost:8080/"
        },
        "id": "rK90Zp8Sn8TF",
        "outputId": "2023b32e-9439-40e6-9a41-165682942037"
      },
      "execution_count": null,
      "outputs": [
        {
          "output_type": "stream",
          "name": "stdout",
          "text": [
            "2022-03-11\n"
          ]
        }
      ]
    },
    {
      "cell_type": "markdown",
      "source": [
        "Verificar os tipos de dados disponíveis e a presença de valores nulos"
      ],
      "metadata": {
        "id": "BufCFKG2oK4t"
      }
    },
    {
      "cell_type": "code",
      "source": [
        "df.info()\n",
        "df.dtypes"
      ],
      "metadata": {
        "colab": {
          "base_uri": "https://localhost:8080/"
        },
        "id": "Y4wA9xGOoUj3",
        "outputId": "5eafec42-ec24-4a80-f513-8e121785e48d"
      },
      "execution_count": null,
      "outputs": [
        {
          "output_type": "stream",
          "name": "stdout",
          "text": [
            "<class 'pandas.core.frame.DataFrame'>\n",
            "RangeIndex: 7100 entries, 0 to 7099\n",
            "Data columns (total 10 columns):\n",
            " #   Column                Non-Null Count  Dtype \n",
            "---  ------                --------------  ----- \n",
            " 0   As of                 7100 non-null   object\n",
            " 1   Rank                  7100 non-null   int64 \n",
            " 2   Year to Date Rank     7100 non-null   object\n",
            " 3   Last Week Rank        7100 non-null   object\n",
            " 4   Title                 7100 non-null   object\n",
            " 5   Type                  7100 non-null   object\n",
            " 6   Netflix Exclusive     4599 non-null   object\n",
            " 7   Netflix Release Date  7100 non-null   object\n",
            " 8   Days In Top 10        7100 non-null   int64 \n",
            " 9   Viewership Score      7100 non-null   int64 \n",
            "dtypes: int64(3), object(7)\n",
            "memory usage: 554.8+ KB\n"
          ]
        },
        {
          "output_type": "execute_result",
          "data": {
            "text/plain": [
              "As of                   object\n",
              "Rank                     int64\n",
              "Year to Date Rank       object\n",
              "Last Week Rank          object\n",
              "Title                   object\n",
              "Type                    object\n",
              "Netflix Exclusive       object\n",
              "Netflix Release Date    object\n",
              "Days In Top 10           int64\n",
              "Viewership Score         int64\n",
              "dtype: object"
            ]
          },
          "metadata": {},
          "execution_count": 15
        }
      ]
    },
    {
      "cell_type": "markdown",
      "source": [
        "Verificando o tipo dos dados\n"
      ],
      "metadata": {
        "id": "JeCk3WKnr8c8"
      }
    },
    {
      "cell_type": "code",
      "source": [
        "df.isnull().sum()"
      ],
      "metadata": {
        "colab": {
          "base_uri": "https://localhost:8080/"
        },
        "id": "cB6ifZwzr_iB",
        "outputId": "a83cae6f-d0ac-41e2-a60b-2ad0ee61a70e"
      },
      "execution_count": null,
      "outputs": [
        {
          "output_type": "execute_result",
          "data": {
            "text/plain": [
              "As of                      0\n",
              "Rank                       0\n",
              "Year to Date Rank          0\n",
              "Last Week Rank             0\n",
              "Title                      0\n",
              "Type                       0\n",
              "Netflix Exclusive       2501\n",
              "Netflix Release Date       0\n",
              "Days In Top 10             0\n",
              "Viewership Score           0\n",
              "dtype: int64"
            ]
          },
          "metadata": {},
          "execution_count": 17
        }
      ]
    },
    {
      "cell_type": "markdown",
      "source": [
        "Nota-se que a coluna 'Netflix Exclusive' possui diversos valores nulos, sendo interessante analisar mais profundamente esta coluna especificamente.\n"
      ],
      "metadata": {
        "id": "5sJ8wcZvsLMY"
      }
    },
    {
      "cell_type": "code",
      "source": [
        "df['Netflix Exclusive'].value_counts()"
      ],
      "metadata": {
        "colab": {
          "base_uri": "https://localhost:8080/"
        },
        "id": "cLpx6G1csXgV",
        "outputId": "0250e223-1885-453a-985d-9819ecd1704b"
      },
      "execution_count": null,
      "outputs": [
        {
          "output_type": "execute_result",
          "data": {
            "text/plain": [
              "Yes    4599\n",
              "Name: Netflix Exclusive, dtype: int64"
            ]
          },
          "metadata": {},
          "execution_count": 22
        }
      ]
    },
    {
      "cell_type": "markdown",
      "source": [
        "Neste ponto, já podemos analisar de maneira mais aprofundada as informações iestatísticas da nossa base de dados.\n",
        "\n",
        "Obs: A função .describe( retornará apenas as estatísticas das colunas que possuem valores inteiros.\n"
      ],
      "metadata": {
        "id": "_jR8_vopuVI3"
      }
    },
    {
      "cell_type": "code",
      "source": [
        "df.describe()"
      ],
      "metadata": {
        "colab": {
          "base_uri": "https://localhost:8080/",
          "height": 300
        },
        "id": "PMKF-qXyubDw",
        "outputId": "6a55ccc2-baea-429f-da6c-b6c7481b0968"
      },
      "execution_count": null,
      "outputs": [
        {
          "output_type": "execute_result",
          "data": {
            "text/plain": [
              "              Rank  Days In Top 10  Viewership Score\n",
              "count  7100.000000     7100.000000       7100.000000\n",
              "mean      5.500000       24.123662        122.790141\n",
              "std       2.872484       58.473789        213.861642\n",
              "min       1.000000        1.000000          1.000000\n",
              "25%       3.000000        3.000000         19.000000\n",
              "50%       5.500000        7.000000         50.000000\n",
              "75%       8.000000       18.000000        128.000000\n",
              "max      10.000000      428.000000       1474.000000"
            ],
            "text/html": [
              "\n",
              "  <div id=\"df-ec884cf2-b5a8-4e40-ba1e-1c0c1ad4f447\">\n",
              "    <div class=\"colab-df-container\">\n",
              "      <div>\n",
              "<style scoped>\n",
              "    .dataframe tbody tr th:only-of-type {\n",
              "        vertical-align: middle;\n",
              "    }\n",
              "\n",
              "    .dataframe tbody tr th {\n",
              "        vertical-align: top;\n",
              "    }\n",
              "\n",
              "    .dataframe thead th {\n",
              "        text-align: right;\n",
              "    }\n",
              "</style>\n",
              "<table border=\"1\" class=\"dataframe\">\n",
              "  <thead>\n",
              "    <tr style=\"text-align: right;\">\n",
              "      <th></th>\n",
              "      <th>Rank</th>\n",
              "      <th>Days In Top 10</th>\n",
              "      <th>Viewership Score</th>\n",
              "    </tr>\n",
              "  </thead>\n",
              "  <tbody>\n",
              "    <tr>\n",
              "      <th>count</th>\n",
              "      <td>7100.000000</td>\n",
              "      <td>7100.000000</td>\n",
              "      <td>7100.000000</td>\n",
              "    </tr>\n",
              "    <tr>\n",
              "      <th>mean</th>\n",
              "      <td>5.500000</td>\n",
              "      <td>24.123662</td>\n",
              "      <td>122.790141</td>\n",
              "    </tr>\n",
              "    <tr>\n",
              "      <th>std</th>\n",
              "      <td>2.872484</td>\n",
              "      <td>58.473789</td>\n",
              "      <td>213.861642</td>\n",
              "    </tr>\n",
              "    <tr>\n",
              "      <th>min</th>\n",
              "      <td>1.000000</td>\n",
              "      <td>1.000000</td>\n",
              "      <td>1.000000</td>\n",
              "    </tr>\n",
              "    <tr>\n",
              "      <th>25%</th>\n",
              "      <td>3.000000</td>\n",
              "      <td>3.000000</td>\n",
              "      <td>19.000000</td>\n",
              "    </tr>\n",
              "    <tr>\n",
              "      <th>50%</th>\n",
              "      <td>5.500000</td>\n",
              "      <td>7.000000</td>\n",
              "      <td>50.000000</td>\n",
              "    </tr>\n",
              "    <tr>\n",
              "      <th>75%</th>\n",
              "      <td>8.000000</td>\n",
              "      <td>18.000000</td>\n",
              "      <td>128.000000</td>\n",
              "    </tr>\n",
              "    <tr>\n",
              "      <th>max</th>\n",
              "      <td>10.000000</td>\n",
              "      <td>428.000000</td>\n",
              "      <td>1474.000000</td>\n",
              "    </tr>\n",
              "  </tbody>\n",
              "</table>\n",
              "</div>\n",
              "      <button class=\"colab-df-convert\" onclick=\"convertToInteractive('df-ec884cf2-b5a8-4e40-ba1e-1c0c1ad4f447')\"\n",
              "              title=\"Convert this dataframe to an interactive table.\"\n",
              "              style=\"display:none;\">\n",
              "        \n",
              "  <svg xmlns=\"http://www.w3.org/2000/svg\" height=\"24px\"viewBox=\"0 0 24 24\"\n",
              "       width=\"24px\">\n",
              "    <path d=\"M0 0h24v24H0V0z\" fill=\"none\"/>\n",
              "    <path d=\"M18.56 5.44l.94 2.06.94-2.06 2.06-.94-2.06-.94-.94-2.06-.94 2.06-2.06.94zm-11 1L8.5 8.5l.94-2.06 2.06-.94-2.06-.94L8.5 2.5l-.94 2.06-2.06.94zm10 10l.94 2.06.94-2.06 2.06-.94-2.06-.94-.94-2.06-.94 2.06-2.06.94z\"/><path d=\"M17.41 7.96l-1.37-1.37c-.4-.4-.92-.59-1.43-.59-.52 0-1.04.2-1.43.59L10.3 9.45l-7.72 7.72c-.78.78-.78 2.05 0 2.83L4 21.41c.39.39.9.59 1.41.59.51 0 1.02-.2 1.41-.59l7.78-7.78 2.81-2.81c.8-.78.8-2.07 0-2.86zM5.41 20L4 18.59l7.72-7.72 1.47 1.35L5.41 20z\"/>\n",
              "  </svg>\n",
              "      </button>\n",
              "      \n",
              "  <style>\n",
              "    .colab-df-container {\n",
              "      display:flex;\n",
              "      flex-wrap:wrap;\n",
              "      gap: 12px;\n",
              "    }\n",
              "\n",
              "    .colab-df-convert {\n",
              "      background-color: #E8F0FE;\n",
              "      border: none;\n",
              "      border-radius: 50%;\n",
              "      cursor: pointer;\n",
              "      display: none;\n",
              "      fill: #1967D2;\n",
              "      height: 32px;\n",
              "      padding: 0 0 0 0;\n",
              "      width: 32px;\n",
              "    }\n",
              "\n",
              "    .colab-df-convert:hover {\n",
              "      background-color: #E2EBFA;\n",
              "      box-shadow: 0px 1px 2px rgba(60, 64, 67, 0.3), 0px 1px 3px 1px rgba(60, 64, 67, 0.15);\n",
              "      fill: #174EA6;\n",
              "    }\n",
              "\n",
              "    [theme=dark] .colab-df-convert {\n",
              "      background-color: #3B4455;\n",
              "      fill: #D2E3FC;\n",
              "    }\n",
              "\n",
              "    [theme=dark] .colab-df-convert:hover {\n",
              "      background-color: #434B5C;\n",
              "      box-shadow: 0px 1px 3px 1px rgba(0, 0, 0, 0.15);\n",
              "      filter: drop-shadow(0px 1px 2px rgba(0, 0, 0, 0.3));\n",
              "      fill: #FFFFFF;\n",
              "    }\n",
              "  </style>\n",
              "\n",
              "      <script>\n",
              "        const buttonEl =\n",
              "          document.querySelector('#df-ec884cf2-b5a8-4e40-ba1e-1c0c1ad4f447 button.colab-df-convert');\n",
              "        buttonEl.style.display =\n",
              "          google.colab.kernel.accessAllowed ? 'block' : 'none';\n",
              "\n",
              "        async function convertToInteractive(key) {\n",
              "          const element = document.querySelector('#df-ec884cf2-b5a8-4e40-ba1e-1c0c1ad4f447');\n",
              "          const dataTable =\n",
              "            await google.colab.kernel.invokeFunction('convertToInteractive',\n",
              "                                                     [key], {});\n",
              "          if (!dataTable) return;\n",
              "\n",
              "          const docLinkHtml = 'Like what you see? Visit the ' +\n",
              "            '<a target=\"_blank\" href=https://colab.research.google.com/notebooks/data_table.ipynb>data table notebook</a>'\n",
              "            + ' to learn more about interactive tables.';\n",
              "          element.innerHTML = '';\n",
              "          dataTable['output_type'] = 'display_data';\n",
              "          await google.colab.output.renderOutput(dataTable, element);\n",
              "          const docLink = document.createElement('div');\n",
              "          docLink.innerHTML = docLinkHtml;\n",
              "          element.appendChild(docLink);\n",
              "        }\n",
              "      </script>\n",
              "    </div>\n",
              "  </div>\n",
              "  "
            ]
          },
          "metadata": {},
          "execution_count": 23
        }
      ]
    },
    {
      "cell_type": "markdown",
      "source": [
        "Uma visualização gráfica nos ajudará a entender melhor nossos dados, neste caso, utilizarei um boxplot"
      ],
      "metadata": {
        "id": "ET2iRVbdvNsy"
      }
    },
    {
      "cell_type": "code",
      "source": [
        "boxplot = df.plot(kind='box', figsize=(25,6), subplots=True)"
      ],
      "metadata": {
        "colab": {
          "base_uri": "https://localhost:8080/",
          "height": 370
        },
        "id": "dm_Z2zwHvFa_",
        "outputId": "27e66abd-f080-474a-f609-13da700264b0"
      },
      "execution_count": null,
      "outputs": [
        {
          "output_type": "display_data",
          "data": {
            "text/plain": [
              "<Figure size 1800x432 with 3 Axes>"
            ],
            "image/png": "[encoded data removed]"
          },
          "metadata": {
            "needs_background": "light"
          }
        }
      ]
    },
    {
      "cell_type": "markdown",
      "source": [
        "Através da análise gráfica é possuvel inferir a presença de outliers em nossa base de dados."
      ],
      "metadata": {
        "id": "YzkGA_DmwJHP"
      }
    },
    {
      "cell_type": "code",
      "source": [
        "df[df['Days In Top 10'] >= 100]\n"
      ],
      "metadata": {
        "colab": {
          "base_uri": "https://localhost:8080/",
          "height": 424
        },
        "id": "M5qEML7tvMH4",
        "outputId": "3c387b72-3557-490d-ce95-00678fbbcea8"
      },
      "execution_count": null,
      "outputs": [
        {
          "output_type": "execute_result",
          "data": {
            "text/plain": [
              "           As of  Rank Year to Date Rank Last Week Rank      Title     Type  \\\n",
              "2886  2021-01-14     7                 6              8  Cocomelon  TV Show   \n",
              "2896  2021-01-15     7                 7             10  Cocomelon  TV Show   \n",
              "2909  2021-01-16    10                 7              9  Cocomelon  TV Show   \n",
              "2919  2021-01-17    10                10              9  Cocomelon  TV Show   \n",
              "3019  2021-01-27    10                 -              -  Cocomelon  TV Show   \n",
              "...          ...   ...               ...            ...        ...      ...   \n",
              "6674  2022-01-28     5                 6              -  Cocomelon  TV Show   \n",
              "6687  2022-01-29     8                 5              8  Cocomelon  TV Show   \n",
              "6718  2022-02-01     9                 -              7  Cocomelon  TV Show   \n",
              "6959  2022-02-25    10                 -              -  Cocomelon  TV Show   \n",
              "6998  2022-03-01     9                 -              -  Cocomelon  TV Show   \n",
              "\n",
              "     Netflix Exclusive Netflix Release Date  Days In Top 10  Viewership Score  \n",
              "2886               NaN          Jun 1, 2020             100               287  \n",
              "2896               NaN          Jun 1, 2020             101               291  \n",
              "2909               NaN          Jun 1, 2020             102               292  \n",
              "2919               NaN          Jun 1, 2020             103               293  \n",
              "3019               NaN          Jun 1, 2020             104               294  \n",
              "...                ...                  ...             ...               ...  \n",
              "6674               NaN          Jun 1, 2020             424              1466  \n",
              "6687               NaN          Jun 1, 2020             425              1469  \n",
              "6718               NaN          Jun 1, 2020             426              1471  \n",
              "6959               NaN          Jun 1, 2020             427              1472  \n",
              "6998               NaN          Jun 1, 2020             428              1474  \n",
              "\n",
              "[329 rows x 10 columns]"
            ],
            "text/html": [
              "\n",
              "  <div id=\"df-eb2640c5-a92d-44c8-821a-5e4a5d24a48a\">\n",
              "    <div class=\"colab-df-container\">\n",
              "      <div>\n",
              "<style scoped>\n",
              "    .dataframe tbody tr th:only-of-type {\n",
              "        vertical-align: middle;\n",
              "    }\n",
              "\n",
              "    .dataframe tbody tr th {\n",
              "        vertical-align: top;\n",
              "    }\n",
              "\n",
              "    .dataframe thead th {\n",
              "        text-align: right;\n",
              "    }\n",
              "</style>\n",
              "<table border=\"1\" class=\"dataframe\">\n",
              "  <thead>\n",
              "    <tr style=\"text-align: right;\">\n",
              "      <th></th>\n",
              "      <th>As of</th>\n",
              "      <th>Rank</th>\n",
              "      <th>Year to Date Rank</th>\n",
              "      <th>Last Week Rank</th>\n",
              "      <th>Title</th>\n",
              "      <th>Type</th>\n",
              "      <th>Netflix Exclusive</th>\n",
              "      <th>Netflix Release Date</th>\n",
              "      <th>Days In Top 10</th>\n",
              "      <th>Viewership Score</th>\n",
              "    </tr>\n",
              "  </thead>\n",
              "  <tbody>\n",
              "    <tr>\n",
              "      <th>2886</th>\n",
              "      <td>2021-01-14</td>\n",
              "      <td>7</td>\n",
              "      <td>6</td>\n",
              "      <td>8</td>\n",
              "      <td>Cocomelon</td>\n",
              "      <td>TV Show</td>\n",
              "      <td>NaN</td>\n",
              "      <td>Jun 1, 2020</td>\n",
              "      <td>100</td>\n",
              "      <td>287</td>\n",
              "    </tr>\n",
              "    <tr>\n",
              "      <th>2896</th>\n",
              "      <td>2021-01-15</td>\n",
              "      <td>7</td>\n",
              "      <td>7</td>\n",
              "      <td>10</td>\n",
              "      <td>Cocomelon</td>\n",
              "      <td>TV Show</td>\n",
              "      <td>NaN</td>\n",
              "      <td>Jun 1, 2020</td>\n",
              "      <td>101</td>\n",
              "      <td>291</td>\n",
              "    </tr>\n",
              "    <tr>\n",
              "      <th>2909</th>\n",
              "      <td>2021-01-16</td>\n",
              "      <td>10</td>\n",
              "      <td>7</td>\n",
              "      <td>9</td>\n",
              "      <td>Cocomelon</td>\n",
              "      <td>TV Show</td>\n",
              "      <td>NaN</td>\n",
              "      <td>Jun 1, 2020</td>\n",
              "      <td>102</td>\n",
              "      <td>292</td>\n",
              "    </tr>\n",
              "    <tr>\n",
              "      <th>2919</th>\n",
              "      <td>2021-01-17</td>\n",
              "      <td>10</td>\n",
              "      <td>10</td>\n",
              "      <td>9</td>\n",
              "      <td>Cocomelon</td>\n",
              "      <td>TV Show</td>\n",
              "      <td>NaN</td>\n",
              "      <td>Jun 1, 2020</td>\n",
              "      <td>103</td>\n",
              "      <td>293</td>\n",
              "    </tr>\n",
              "    <tr>\n",
              "      <th>3019</th>\n",
              "      <td>2021-01-27</td>\n",
              "      <td>10</td>\n",
              "      <td>-</td>\n",
              "      <td>-</td>\n",
              "      <td>Cocomelon</td>\n",
              "      <td>TV Show</td>\n",
              "      <td>NaN</td>\n",
              "      <td>Jun 1, 2020</td>\n",
              "      <td>104</td>\n",
              "      <td>294</td>\n",
              "    </tr>\n",
              "    <tr>\n",
              "      <th>...</th>\n",
              "      <td>...</td>\n",
              "      <td>...</td>\n",
              "      <td>...</td>\n",
              "      <td>...</td>\n",
              "      <td>...</td>\n",
              "      <td>...</td>\n",
              "      <td>...</td>\n",
              "      <td>...</td>\n",
              "      <td>...</td>\n",
              "      <td>...</td>\n",
              "    </tr>\n",
              "    <tr>\n",
              "      <th>6674</th>\n",
              "      <td>2022-01-28</td>\n",
              "      <td>5</td>\n",
              "      <td>6</td>\n",
              "      <td>-</td>\n",
              "      <td>Cocomelon</td>\n",
              "      <td>TV Show</td>\n",
              "      <td>NaN</td>\n",
              "      <td>Jun 1, 2020</td>\n",
              "      <td>424</td>\n",
              "      <td>1466</td>\n",
              "    </tr>\n",
              "    <tr>\n",
              "      <th>6687</th>\n",
              "      <td>2022-01-29</td>\n",
              "      <td>8</td>\n",
              "      <td>5</td>\n",
              "      <td>8</td>\n",
              "      <td>Cocomelon</td>\n",
              "      <td>TV Show</td>\n",
              "      <td>NaN</td>\n",
              "      <td>Jun 1, 2020</td>\n",
              "      <td>425</td>\n",
              "      <td>1469</td>\n",
              "    </tr>\n",
              "    <tr>\n",
              "      <th>6718</th>\n",
              "      <td>2022-02-01</td>\n",
              "      <td>9</td>\n",
              "      <td>-</td>\n",
              "      <td>7</td>\n",
              "      <td>Cocomelon</td>\n",
              "      <td>TV Show</td>\n",
              "      <td>NaN</td>\n",
              "      <td>Jun 1, 2020</td>\n",
              "      <td>426</td>\n",
              "      <td>1471</td>\n",
              "    </tr>\n",
              "    <tr>\n",
              "      <th>6959</th>\n",
              "      <td>2022-02-25</td>\n",
              "      <td>10</td>\n",
              "      <td>-</td>\n",
              "      <td>-</td>\n",
              "      <td>Cocomelon</td>\n",
              "      <td>TV Show</td>\n",
              "      <td>NaN</td>\n",
              "      <td>Jun 1, 2020</td>\n",
              "      <td>427</td>\n",
              "      <td>1472</td>\n",
              "    </tr>\n",
              "    <tr>\n",
              "      <th>6998</th>\n",
              "      <td>2022-03-01</td>\n",
              "      <td>9</td>\n",
              "      <td>-</td>\n",
              "      <td>-</td>\n",
              "      <td>Cocomelon</td>\n",
              "      <td>TV Show</td>\n",
              "      <td>NaN</td>\n",
              "      <td>Jun 1, 2020</td>\n",
              "      <td>428</td>\n",
              "      <td>1474</td>\n",
              "    </tr>\n",
              "  </tbody>\n",
              "</table>\n",
              "<p>329 rows × 10 columns</p>\n",
              "</div>\n",
              "      <button class=\"colab-df-convert\" onclick=\"convertToInteractive('df-eb2640c5-a92d-44c8-821a-5e4a5d24a48a')\"\n",
              "              title=\"Convert this dataframe to an interactive table.\"\n",
              "              style=\"display:none;\">\n",
              "        \n",
              "  <svg xmlns=\"http://www.w3.org/2000/svg\" height=\"24px\"viewBox=\"0 0 24 24\"\n",
              "       width=\"24px\">\n",
              "    <path d=\"M0 0h24v24H0V0z\" fill=\"none\"/>\n",
              "    <path d=\"M18.56 5.44l.94 2.06.94-2.06 2.06-.94-2.06-.94-.94-2.06-.94 2.06-2.06.94zm-11 1L8.5 8.5l.94-2.06 2.06-.94-2.06-.94L8.5 2.5l-.94 2.06-2.06.94zm10 10l.94 2.06.94-2.06 2.06-.94-2.06-.94-.94-2.06-.94 2.06-2.06.94z\"/><path d=\"M17.41 7.96l-1.37-1.37c-.4-.4-.92-.59-1.43-.59-.52 0-1.04.2-1.43.59L10.3 9.45l-7.72 7.72c-.78.78-.78 2.05 0 2.83L4 21.41c.39.39.9.59 1.41.59.51 0 1.02-.2 1.41-.59l7.78-7.78 2.81-2.81c.8-.78.8-2.07 0-2.86zM5.41 20L4 18.59l7.72-7.72 1.47 1.35L5.41 20z\"/>\n",
              "  </svg>\n",
              "      </button>\n",
              "      \n",
              "  <style>\n",
              "    .colab-df-container {\n",
              "      display:flex;\n",
              "      flex-wrap:wrap;\n",
              "      gap: 12px;\n",
              "    }\n",
              "\n",
              "    .colab-df-convert {\n",
              "      background-color: #E8F0FE;\n",
              "      border: none;\n",
              "      border-radius: 50%;\n",
              "      cursor: pointer;\n",
              "      display: none;\n",
              "      fill: #1967D2;\n",
              "      height: 32px;\n",
              "      padding: 0 0 0 0;\n",
              "      width: 32px;\n",
              "    }\n",
              "\n",
              "    .colab-df-convert:hover {\n",
              "      background-color: #E2EBFA;\n",
              "      box-shadow: 0px 1px 2px rgba(60, 64, 67, 0.3), 0px 1px 3px 1px rgba(60, 64, 67, 0.15);\n",
              "      fill: #174EA6;\n",
              "    }\n",
              "\n",
              "    [theme=dark] .colab-df-convert {\n",
              "      background-color: #3B4455;\n",
              "      fill: #D2E3FC;\n",
              "    }\n",
              "\n",
              "    [theme=dark] .colab-df-convert:hover {\n",
              "      background-color: #434B5C;\n",
              "      box-shadow: 0px 1px 3px 1px rgba(0, 0, 0, 0.15);\n",
              "      filter: drop-shadow(0px 1px 2px rgba(0, 0, 0, 0.3));\n",
              "      fill: #FFFFFF;\n",
              "    }\n",
              "  </style>\n",
              "\n",
              "      <script>\n",
              "        const buttonEl =\n",
              "          document.querySelector('#df-eb2640c5-a92d-44c8-821a-5e4a5d24a48a button.colab-df-convert');\n",
              "        buttonEl.style.display =\n",
              "          google.colab.kernel.accessAllowed ? 'block' : 'none';\n",
              "\n",
              "        async function convertToInteractive(key) {\n",
              "          const element = document.querySelector('#df-eb2640c5-a92d-44c8-821a-5e4a5d24a48a');\n",
              "          const dataTable =\n",
              "            await google.colab.kernel.invokeFunction('convertToInteractive',\n",
              "                                                     [key], {});\n",
              "          if (!dataTable) return;\n",
              "\n",
              "          const docLinkHtml = 'Like what you see? Visit the ' +\n",
              "            '<a target=\"_blank\" href=https://colab.research.google.com/notebooks/data_table.ipynb>data table notebook</a>'\n",
              "            + ' to learn more about interactive tables.';\n",
              "          element.innerHTML = '';\n",
              "          dataTable['output_type'] = 'display_data';\n",
              "          await google.colab.output.renderOutput(dataTable, element);\n",
              "          const docLink = document.createElement('div');\n",
              "          docLink.innerHTML = docLinkHtml;\n",
              "          element.appendChild(docLink);\n",
              "        }\n",
              "      </script>\n",
              "    </div>\n",
              "  </div>\n",
              "  "
            ]
          },
          "metadata": {},
          "execution_count": 36
        }
      ]
    },
    {
      "cell_type": "markdown",
      "source": [
        "O título 'Cocomelon' apareceu muitas vezes no top 10, seria interessante também realizar uma comparação frequência no top 10 com os demais títulos.\n",
        "\n",
        "*   Também podemos apresentar estes dados de maneira visual para facilitar seu entendimento.\n",
        "\n",
        "\n"
      ],
      "metadata": {
        "id": "uShS65mgx57k"
      }
    },
    {
      "cell_type": "code",
      "source": [
        "df.Title.value_counts()"
      ],
      "metadata": {
        "colab": {
          "base_uri": "https://localhost:8080/"
        },
        "id": "713d9GyLx0OC",
        "outputId": "6cc4addb-792a-4863-ac94-6d223dbc22a0"
      },
      "execution_count": null,
      "outputs": [
        {
          "output_type": "execute_result",
          "data": {
            "text/plain": [
              "Cocomelon                       428\n",
              "Ozark                            85\n",
              "Cobra Kai                        81\n",
              "Manifest                         80\n",
              "The Queenâs Gambit             73\n",
              "                               ... \n",
              "The Office                        1\n",
              "Animals on the Loose: A You…      1\n",
              "Dark                              1\n",
              "The Secret Life of Pets 2         1\n",
              "Step Up Revolution                1\n",
              "Name: Title, Length: 645, dtype: int64"
            ]
          },
          "metadata": {},
          "execution_count": 40
        }
      ]
    },
    {
      "cell_type": "code",
      "source": [
        "df.Type.value_counts().plot(kind='bar')"
      ],
      "metadata": {
        "colab": {
          "base_uri": "https://localhost:8080/",
          "height": 363
        },
        "id": "HxgOurj4y7pS",
        "outputId": "8ccb1c41-f2c1-4808-f944-4714adc1d76b"
      },
      "execution_count": null,
      "outputs": [
        {
          "output_type": "execute_result",
          "data": {
            "text/plain": [
              "<matplotlib.axes._subplots.AxesSubplot at 0x7f03c3da7290>"
            ]
          },
          "metadata": {},
          "execution_count": 48
        },
        {
          "output_type": "display_data",
          "data": {
            "text/plain": [
              "<Figure size 432x288 with 1 Axes>"
            ],
            "image/png": "[encoded data removed]"
          },
          "metadata": {
            "needs_background": "light"
          }
        }
      ]
    },
    {
      "cell_type": "markdown",
      "source": [
        "Aparentemente, as séries de TV aparecem com uma frequência considerávelmente maior no top 10, possivelmente por conta de seu regime de lançamento e maior duração.\n"
      ],
      "metadata": {
        "id": "Bi87hV_g0Cmv"
      }
    },
    {
      "cell_type": "markdown",
      "source": [
        "Por fim, ao consultar a base de dados no site de origem(kaggle), foi possível observar que a coluna 'Viewership Score' é referente à uma pontuação fornecida a cada produção, de acordo com o tempo com que a mesma se mantém no top 10\n",
        "\n",
        "*   Exemplo: se a produção apreceu em primeiro lugar, receberá um score de 10 pontos, em segundo lugar, 9 pontos, e assim por diante;\n",
        "*   Com isto, podemos confirmar nossas análises anteriores através desde novo parâmetro com o código abaixo.\n",
        "\n",
        "\n",
        "\n",
        "\n",
        "\n"
      ],
      "metadata": {
        "id": "WvjzA_bh1evv"
      }
    },
    {
      "cell_type": "code",
      "source": [
        "df[df['Viewership Score'] == df['Viewership Score'].max()]"
      ],
      "metadata": {
        "colab": {
          "base_uri": "https://localhost:8080/",
          "height": 81
        },
        "id": "nXxmrZGy2S8T",
        "outputId": "0737f7f9-02a0-4dc5-fb8a-774474976f2a"
      },
      "execution_count": null,
      "outputs": [
        {
          "output_type": "execute_result",
          "data": {
            "text/plain": [
              "           As of  Rank Year to Date Rank Last Week Rank      Title     Type  \\\n",
              "6998  2022-03-01     9                 -              -  Cocomelon  TV Show   \n",
              "\n",
              "     Netflix Exclusive Netflix Release Date  Days In Top 10  Viewership Score  \n",
              "6998               NaN          Jun 1, 2020             428              1474  "
            ],
            "text/html": [
              "\n",
              "  <div id=\"df-e43d11a2-66c1-4357-9bb1-c6120b6d2f42\">\n",
              "    <div class=\"colab-df-container\">\n",
              "      <div>\n",
              "<style scoped>\n",
              "    .dataframe tbody tr th:only-of-type {\n",
              "        vertical-align: middle;\n",
              "    }\n",
              "\n",
              "    .dataframe tbody tr th {\n",
              "        vertical-align: top;\n",
              "    }\n",
              "\n",
              "    .dataframe thead th {\n",
              "        text-align: right;\n",
              "    }\n",
              "</style>\n",
              "<table border=\"1\" class=\"dataframe\">\n",
              "  <thead>\n",
              "    <tr style=\"text-align: right;\">\n",
              "      <th></th>\n",
              "      <th>As of</th>\n",
              "      <th>Rank</th>\n",
              "      <th>Year to Date Rank</th>\n",
              "      <th>Last Week Rank</th>\n",
              "      <th>Title</th>\n",
              "      <th>Type</th>\n",
              "      <th>Netflix Exclusive</th>\n",
              "      <th>Netflix Release Date</th>\n",
              "      <th>Days In Top 10</th>\n",
              "      <th>Viewership Score</th>\n",
              "    </tr>\n",
              "  </thead>\n",
              "  <tbody>\n",
              "    <tr>\n",
              "      <th>6998</th>\n",
              "      <td>2022-03-01</td>\n",
              "      <td>9</td>\n",
              "      <td>-</td>\n",
              "      <td>-</td>\n",
              "      <td>Cocomelon</td>\n",
              "      <td>TV Show</td>\n",
              "      <td>NaN</td>\n",
              "      <td>Jun 1, 2020</td>\n",
              "      <td>428</td>\n",
              "      <td>1474</td>\n",
              "    </tr>\n",
              "  </tbody>\n",
              "</table>\n",
              "</div>\n",
              "      <button class=\"colab-df-convert\" onclick=\"convertToInteractive('df-e43d11a2-66c1-4357-9bb1-c6120b6d2f42')\"\n",
              "              title=\"Convert this dataframe to an interactive table.\"\n",
              "              style=\"display:none;\">\n",
              "        \n",
              "  <svg xmlns=\"http://www.w3.org/2000/svg\" height=\"24px\"viewBox=\"0 0 24 24\"\n",
              "       width=\"24px\">\n",
              "    <path d=\"M0 0h24v24H0V0z\" fill=\"none\"/>\n",
              "    <path d=\"M18.56 5.44l.94 2.06.94-2.06 2.06-.94-2.06-.94-.94-2.06-.94 2.06-2.06.94zm-11 1L8.5 8.5l.94-2.06 2.06-.94-2.06-.94L8.5 2.5l-.94 2.06-2.06.94zm10 10l.94 2.06.94-2.06 2.06-.94-2.06-.94-.94-2.06-.94 2.06-2.06.94z\"/><path d=\"M17.41 7.96l-1.37-1.37c-.4-.4-.92-.59-1.43-.59-.52 0-1.04.2-1.43.59L10.3 9.45l-7.72 7.72c-.78.78-.78 2.05 0 2.83L4 21.41c.39.39.9.59 1.41.59.51 0 1.02-.2 1.41-.59l7.78-7.78 2.81-2.81c.8-.78.8-2.07 0-2.86zM5.41 20L4 18.59l7.72-7.72 1.47 1.35L5.41 20z\"/>\n",
              "  </svg>\n",
              "      </button>\n",
              "      \n",
              "  <style>\n",
              "    .colab-df-container {\n",
              "      display:flex;\n",
              "      flex-wrap:wrap;\n",
              "      gap: 12px;\n",
              "    }\n",
              "\n",
              "    .colab-df-convert {\n",
              "      background-color: #E8F0FE;\n",
              "      border: none;\n",
              "      border-radius: 50%;\n",
              "      cursor: pointer;\n",
              "      display: none;\n",
              "      fill: #1967D2;\n",
              "      height: 32px;\n",
              "      padding: 0 0 0 0;\n",
              "      width: 32px;\n",
              "    }\n",
              "\n",
              "    .colab-df-convert:hover {\n",
              "      background-color: #E2EBFA;\n",
              "      box-shadow: 0px 1px 2px rgba(60, 64, 67, 0.3), 0px 1px 3px 1px rgba(60, 64, 67, 0.15);\n",
              "      fill: #174EA6;\n",
              "    }\n",
              "\n",
              "    [theme=dark] .colab-df-convert {\n",
              "      background-color: #3B4455;\n",
              "      fill: #D2E3FC;\n",
              "    }\n",
              "\n",
              "    [theme=dark] .colab-df-convert:hover {\n",
              "      background-color: #434B5C;\n",
              "      box-shadow: 0px 1px 3px 1px rgba(0, 0, 0, 0.15);\n",
              "      filter: drop-shadow(0px 1px 2px rgba(0, 0, 0, 0.3));\n",
              "      fill: #FFFFFF;\n",
              "    }\n",
              "  </style>\n",
              "\n",
              "      <script>\n",
              "        const buttonEl =\n",
              "          document.querySelector('#df-e43d11a2-66c1-4357-9bb1-c6120b6d2f42 button.colab-df-convert');\n",
              "        buttonEl.style.display =\n",
              "          google.colab.kernel.accessAllowed ? 'block' : 'none';\n",
              "\n",
              "        async function convertToInteractive(key) {\n",
              "          const element = document.querySelector('#df-e43d11a2-66c1-4357-9bb1-c6120b6d2f42');\n",
              "          const dataTable =\n",
              "            await google.colab.kernel.invokeFunction('convertToInteractive',\n",
              "                                                     [key], {});\n",
              "          if (!dataTable) return;\n",
              "\n",
              "          const docLinkHtml = 'Like what you see? Visit the ' +\n",
              "            '<a target=\"_blank\" href=https://colab.research.google.com/notebooks/data_table.ipynb>data table notebook</a>'\n",
              "            + ' to learn more about interactive tables.';\n",
              "          element.innerHTML = '';\n",
              "          dataTable['output_type'] = 'display_data';\n",
              "          await google.colab.output.renderOutput(dataTable, element);\n",
              "          const docLink = document.createElement('div');\n",
              "          docLink.innerHTML = docLinkHtml;\n",
              "          element.appendChild(docLink);\n",
              "        }\n",
              "      </script>\n",
              "    </div>\n",
              "  </div>\n",
              "  "
            ]
          },
          "metadata": {},
          "execution_count": 56
        }
      ]
    },
    {
      "cell_type": "markdown",
      "source": [
        "##Conclusões Finais\n",
        "\n",
        "\n",
        "*   Através desta análise exploratória foi possível concluir que a produção que permaneceu por maior tempo no Top 10 foi a série de TV infantil 'Cocomelon';\n",
        "*   Assim, podemos observar que muitas vezes a análise de dados pode se contrapor ao senso comum, pois o resultado baseado em dados, pode não ser o esperado de acordo com a observação individual de cada pessoa, tornando assim a análise exploratória indispensável para a tomada de decisão bem direcionada,\n",
        "\n",
        "\n"
      ],
      "metadata": {
        "id": "GdZ_ungZ2iD0"
      }
    }
  ]
}